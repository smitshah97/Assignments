{
 "cells": [
  {
   "cell_type": "markdown",
   "metadata": {},
   "source": [
    "# Day 1"
   ]
  },
  {
   "cell_type": "markdown",
   "metadata": {},
   "source": [
    "# Question 1"
   ]
  },
  {
   "cell_type": "code",
   "execution_count": 1,
   "metadata": {},
   "outputs": [
    {
     "name": "stdout",
     "output_type": "stream",
     "text": [
      "False\n"
     ]
    }
   ],
   "source": [
    "def test_prime(n):\n",
    "    if (n==1):\n",
    "        return False\n",
    "    elif (n==2):\n",
    "        return True;\n",
    "    else:\n",
    "        for x in range(2,n):\n",
    "            if(n % x==0):\n",
    "                return False\n",
    "        return True             \n",
    "print(test_prime(9))"
   ]
  },
  {
   "cell_type": "code",
   "execution_count": 2,
   "metadata": {},
   "outputs": [
    {
     "name": "stdout",
     "output_type": "stream",
     "text": [
      "True\n"
     ]
    }
   ],
   "source": [
    "def perfect_number(n):\n",
    "    sum = 0\n",
    "    for x in range(1, n):\n",
    "        if n % x == 0:\n",
    "            sum += x\n",
    "    return sum == n\n",
    "print(perfect_number(6))"
   ]
  },
  {
   "cell_type": "code",
   "execution_count": 3,
   "metadata": {},
   "outputs": [
    {
     "name": "stdout",
     "output_type": "stream",
     "text": [
      "1\n",
      "1\n",
      "2\n",
      "3\n",
      "5\n",
      "8\n",
      "13\n",
      "21\n",
      "34\n"
     ]
    }
   ],
   "source": [
    "x,y=0,1\n",
    "\n",
    "while y<50:\n",
    "    print(y)\n",
    "    x,y = y,x+y"
   ]
  },
  {
   "cell_type": "markdown",
   "metadata": {},
   "source": [
    "# Day 2"
   ]
  },
  {
   "cell_type": "markdown",
   "metadata": {},
   "source": [
    "# Question 1"
   ]
  },
  {
   "cell_type": "code",
   "execution_count": 4,
   "metadata": {},
   "outputs": [],
   "source": [
    "def maximum(a, b, c):\n",
    "  \n",
    "    if (a >= b) and (a >= c):\n",
    "        largest = a\n",
    "  \n",
    "    elif (b >= a) and (b >= c):\n",
    "        largest = b\n",
    "    else:\n",
    "        largest = c\n",
    "          \n",
    "    return largest"
   ]
  },
  {
   "cell_type": "markdown",
   "metadata": {},
   "source": [
    "# Question 2"
   ]
  },
  {
   "cell_type": "code",
   "execution_count": 5,
   "metadata": {},
   "outputs": [
    {
     "name": "stdout",
     "output_type": "stream",
     "text": [
      "20\n"
     ]
    }
   ],
   "source": [
    "def sum(numbers):\n",
    "    total = 0\n",
    "    for x in numbers:\n",
    "        total += x\n",
    "    return total\n",
    "print(sum((8, 2, 3, 0, 7)))"
   ]
  },
  {
   "cell_type": "markdown",
   "metadata": {},
   "source": [
    "# Question 3"
   ]
  },
  {
   "cell_type": "markdown",
   "metadata": {},
   "source": [
    "# "
   ]
  },
  {
   "cell_type": "code",
   "execution_count": 6,
   "metadata": {},
   "outputs": [
    {
     "name": "stdout",
     "output_type": "stream",
     "text": [
      "-336\n"
     ]
    }
   ],
   "source": [
    "def multiply(numbers):  \n",
    "    total = 1\n",
    "    for x in numbers:\n",
    "        total *= x  \n",
    "    return total  \n",
    "print(multiply((8, 2, 3, -1, 7)))"
   ]
  },
  {
   "cell_type": "markdown",
   "metadata": {},
   "source": [
    "# Question 4"
   ]
  },
  {
   "cell_type": "code",
   "execution_count": 7,
   "metadata": {},
   "outputs": [
    {
     "name": "stdout",
     "output_type": "stream",
     "text": [
      "Input the  temperature you like to convert? (e.g., 45F, 102C etc.) : 46F\n",
      "The temperature in Celsius is 8 degrees.\n"
     ]
    }
   ],
   "source": [
    "temp = input(\"Input the  temperature you like to convert? (e.g., 45F, 102C etc.) : \")\n",
    "degree = int(temp[:-1])\n",
    "i_convention = temp[-1]\n",
    "\n",
    "if i_convention.upper() == \"C\":\n",
    "  result = int(round((9 * degree) / 5 + 32))\n",
    "  o_convention = \"Fahrenheit\"\n",
    "elif i_convention.upper() == \"F\":\n",
    "  result = int(round((degree - 32) * 5 / 9))\n",
    "  o_convention = \"Celsius\"\n",
    "else:\n",
    "  print(\"Input proper convention.\")\n",
    "  quit()\n",
    "print(\"The temperature in\", o_convention, \"is\", result, \"degrees.\")"
   ]
  },
  {
   "cell_type": "markdown",
   "metadata": {},
   "source": [
    "# Question 5"
   ]
  },
  {
   "cell_type": "code",
   "execution_count": 8,
   "metadata": {},
   "outputs": [
    {
     "name": "stdout",
     "output_type": "stream",
     "text": [
      "Number of even numbers : 4\n",
      "Number of odd numbers : 5\n"
     ]
    }
   ],
   "source": [
    "numbers = (1, 2, 3, 4, 5, 6, 7, 8, 9) # Declaring the tuple\n",
    "count_odd = 0\n",
    "count_even = 0\n",
    "for x in numbers:\n",
    "        if not x % 2:\n",
    "    \t     count_even+=1\n",
    "        else:\n",
    "    \t     count_odd+=1\n",
    "print(\"Number of even numbers :\",count_even)\n",
    "print(\"Number of odd numbers :\",count_odd)"
   ]
  },
  {
   "cell_type": "markdown",
   "metadata": {},
   "source": [
    "# Day 3"
   ]
  },
  {
   "cell_type": "markdown",
   "metadata": {},
   "source": [
    "# Question 1"
   ]
  },
  {
   "cell_type": "code",
   "execution_count": 10,
   "metadata": {},
   "outputs": [
    {
     "name": "stdout",
     "output_type": "stream",
     "text": [
      "Original array: array('i', [1, 3, 5, 7, 9])\n",
      "Remove the third item form the array:\n",
      "New array: array('i', [1, 3, 7, 9])\n"
     ]
    }
   ],
   "source": [
    "from array import *\n",
    "array_num = array('i', [1, 3, 5, 7, 9])\n",
    "print(\"Original array: \"+str(array_num))\n",
    "print(\"Remove the third item form the array:\")\n",
    "array_num.pop(2)\n",
    "print(\"New array: \"+str(array_num))"
   ]
  },
  {
   "cell_type": "markdown",
   "metadata": {},
   "source": [
    "# Question 2"
   ]
  },
  {
   "cell_type": "code",
   "execution_count": 11,
   "metadata": {},
   "outputs": [
    {
     "name": "stdout",
     "output_type": "stream",
     "text": [
      "Original array: array('i', [1, 3, 5, 3, 7, 1, 9, 3])\n",
      "Remove the first occurrence of 3 from the said array:\n",
      "New array: array('i', [1, 5, 3, 7, 1, 9, 3])\n"
     ]
    }
   ],
   "source": [
    "from array import *\n",
    "array_num = array('i', [1, 3, 5, 3, 7, 1, 9, 3])\n",
    "print(\"Original array: \"+str(array_num))\n",
    "print(\"Remove the first occurrence of 3 from the said array:\")\n",
    "array_num.remove(3)\n",
    "print(\"New array: \"+str(array_num))"
   ]
  },
  {
   "cell_type": "markdown",
   "metadata": {},
   "source": [
    "# Question 3"
   ]
  },
  {
   "cell_type": "code",
   "execution_count": 12,
   "metadata": {},
   "outputs": [
    {
     "name": "stdout",
     "output_type": "stream",
     "text": [
      "Original array: array('i', [1, 3, 5, 3, 7, 1, 9, 3])\n",
      "Convert the said array to an ordinary list with the same items:\n",
      "[1, 3, 5, 3, 7, 1, 9, 3]\n"
     ]
    }
   ],
   "source": [
    "from array import *\n",
    "array_num = array('i', [1, 3, 5, 3, 7, 1, 9, 3])\n",
    "print(\"Original array: \"+str(array_num))\n",
    "num_list = array_num.tolist()\n",
    "print(\"Convert the said array to an ordinary list with the same items:\")\n",
    "print(num_list)"
   ]
  },
  {
   "cell_type": "markdown",
   "metadata": {},
   "source": [
    "# Day 7"
   ]
  },
  {
   "cell_type": "code",
   "execution_count": 13,
   "metadata": {},
   "outputs": [],
   "source": [
    "import tkinter as tk \n",
    "parent = tk.Tk() \n",
    "parent.title('Title - button') \n",
    "my_button = tk.Button(parent, text='Quit', height=1, width=35, command=parent.destroy) \n",
    "my_button.pack() \n",
    "parent.mainloop()"
   ]
  },
  {
   "cell_type": "code",
   "execution_count": 14,
   "metadata": {},
   "outputs": [
    {
     "name": "stdout",
     "output_type": "stream",
     "text": [
      "Tkinter is easy to create GUI!\n"
     ]
    }
   ],
   "source": [
    "import tkinter as tk   \n",
    "\n",
    "def write_text():\n",
    "    print(\"Tkinter is easy to create GUI!\")\n",
    "\n",
    "parent = tk.Tk()\n",
    "frame = tk.Frame(parent)\n",
    "frame.pack()\n",
    "\n",
    "text_disp= tk.Button(frame, \n",
    "                   text=\"Hello\", \n",
    "                   command=write_text\n",
    "                   )\n",
    "\n",
    "text_disp.pack(side=tk.LEFT)\n",
    "\n",
    "exit_button = tk.Button(frame,\n",
    "                   text=\"Exit\",\n",
    "                   fg=\"green\",\n",
    "                   command=quit)\n",
    "exit_button.pack(side=tk.RIGHT)\n",
    "\n",
    "parent.mainloop()"
   ]
  },
  {
   "cell_type": "code",
   "execution_count": 1,
   "metadata": {},
   "outputs": [],
   "source": [
    "from tkinter import *\n",
    "\n",
    "def action():\n",
    "    # getting value of entryNumber\n",
    "    N = int(entryNumber.get())\n",
    "    # initialize factorial \n",
    "    facto = 1\n",
    "    for i in range(1 , N + 1):\n",
    "        facto = facto*i\n",
    "    # display factorial N! in label result\n",
    "    lblResult['text'] = \"The factorial of \" + str(N) + \" is \" + str(N) + \"! = \" + str(facto)\n",
    "    \n",
    "    \n",
    "root = Tk()\n",
    "root.geometry(\"420x150\")\n",
    " \n",
    "# creating label and entry text for number N\n",
    "lblNumber  = Label(root , text = \"Enter value of integer N  : \")\n",
    "lblNumber.place( x = 20 , y = 20)\n",
    "entryNumber = Entry(root)\n",
    "entryNumber.place( x = 200 , y = 20 , width = 200)\n",
    "\n",
    "# creating label to display result\n",
    "lblResult = Label(root , text =\"\")\n",
    "lblResult.place(x = 200 , y = 50 )\n",
    "\n",
    "# creating button to perform the action\n",
    "btnValidate = Button(root, text = \" Validate\" , command = action)\n",
    "btnValidate.place(x = 200 , y = 90 , width = 200)\n",
    "\n",
    "root.mainloop()"
   ]
  },
  {
   "cell_type": "code",
   "execution_count": 2,
   "metadata": {},
   "outputs": [],
   "source": [
    "from tkinter import *\n",
    "\n",
    "# create action methode \n",
    "def action ():\n",
    "    # retrieve the value of the first and second input field\n",
    "    M = int (entryNumber1.get ())\n",
    "    N = int (entryNumber2.get ())    \n",
    "    \n",
    "    S = M + N\n",
    "    # display the sum in label result\n",
    "    lblResult['text'] = \"The Sum is : \" + str(M)  + \" + \" +  str(N) +\"  = \" + str(S)\n",
    "  \n",
    "# creation of the main window\n",
    "root = Tk ()\n",
    "root.geometry (\"400x175\")\n",
    "\n",
    "# Creation of the first edit control with the associated label\n",
    "lblnumber1 = Label (root, text = \"Enter the value of M :\")\n",
    "lblnumber1.place (x = 50, y = 20)\n",
    "entryNumber1 = Entry (root)\n",
    "entryNumber1.place (x = 200, y = 20)\n",
    "\n",
    "# Creation of the 2nd input field with the associated label\n",
    "lblnumber2 = Label (root, text = \"Enter the value of N :\")\n",
    "lblnumber2.place (x = 50, y = 50)\n",
    "entryNumber2 = Entry (root)\n",
    "entryNumber2.place (x = 200, y = 50)\n",
    "\n",
    "# Create a label to display result\n",
    "lblResult = Label(root)\n",
    "lblResult.place(x = 200 , y = 80)\n",
    "\n",
    "# Creation of button that validates the action\n",
    "Validate = Button (root, text = \"Validate\", command = action)\n",
    "Validate.place (x = 200, y = 120, width = 165)\n",
    "                \n",
    "root.mainloop ()"
   ]
  },
  {
   "cell_type": "code",
   "execution_count": null,
   "metadata": {},
   "outputs": [],
   "source": []
  }
 ],
 "metadata": {
  "kernelspec": {
   "display_name": "Python 3",
   "language": "python",
   "name": "python3"
  },
  "language_info": {
   "codemirror_mode": {
    "name": "ipython",
    "version": 3
   },
   "file_extension": ".py",
   "mimetype": "text/x-python",
   "name": "python",
   "nbconvert_exporter": "python",
   "pygments_lexer": "ipython3",
   "version": "3.8.3"
  }
 },
 "nbformat": 4,
 "nbformat_minor": 4
}
